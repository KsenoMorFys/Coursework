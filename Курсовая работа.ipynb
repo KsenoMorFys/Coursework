{
 "cells": [
  {
   "cell_type": "markdown",
   "id": "20625066",
   "metadata": {},
   "source": [
    "## Устанавливаем библиотеку для работы с базой данной MySQL"
   ]
  },
  {
   "cell_type": "code",
   "execution_count": 1,
   "id": "e9f1f5e6",
   "metadata": {},
   "outputs": [
    {
     "name": "stdout",
     "output_type": "stream",
     "text": [
      "Requirement already satisfied: pymysql in c:\\programdata\\anaconda3\\lib\\site-packages (1.0.2)\n"
     ]
    }
   ],
   "source": [
    "!pip install pymysql"
   ]
  },
  {
   "cell_type": "markdown",
   "id": "85885021",
   "metadata": {},
   "source": [
    "## Импортируем библиотеку для работы"
   ]
  },
  {
   "cell_type": "code",
   "execution_count": 2,
   "id": "7bd68606",
   "metadata": {},
   "outputs": [],
   "source": [
    "import pymysql"
   ]
  },
  {
   "cell_type": "markdown",
   "id": "0ce1cf5a",
   "metadata": {},
   "source": [
    "## Прописываем наши данные для подкючения к БД"
   ]
  },
  {
   "cell_type": "code",
   "execution_count": 3,
   "id": "62a6f18d",
   "metadata": {},
   "outputs": [],
   "source": [
    "host = \"127.0.0.1\"\n",
    "user = \"root\"\n",
    "password = \"05022003\"\n",
    "db_name = \"test\""
   ]
  },
  {
   "cell_type": "markdown",
   "id": "fb2d4dfd",
   "metadata": {},
   "source": [
    "## Основная ячейка выполнения кода"
   ]
  },
  {
   "cell_type": "code",
   "execution_count": 4,
   "id": "5071dc79",
   "metadata": {},
   "outputs": [
    {
     "name": "stdout",
     "output_type": "stream",
     "text": [
      "Удалось подключится к БД\n",
      "#######################################################################################\n",
      "Ошибка подключения\n",
      "(1050, \"Table 'users' already exists\")\n"
     ]
    }
   ],
   "source": [
    "try:\n",
    "    connection = pymysql.connect(\n",
    "        host=host,\n",
    "        port=3306,\n",
    "        user=user,\n",
    "        password=password,\n",
    "        database=db_name,\n",
    "        cursorclass=pymysql.cursors.DictCursor\n",
    "    )\n",
    "    print(\"Удалось подключится к БД\")\n",
    "    print(\"#\" * 87)\n",
    "    \n",
    "    \n",
    "    try:\n",
    "        with connection.cursor() as cursor:\n",
    "            create_table = \"CREATE TABLE users (id int AUTO_INCREMENT,\" \\\n",
    "                           \"name varchar(32),\" \\\n",
    "                           \"password varchar(32),\" \\\n",
    "                           \"email varchar(32), PRIMARY KEY(id));\"\n",
    "            cursor.execute(create_table)\n",
    "            print(\"Таблица создана\")\n",
    "\n",
    "#         #insert data\n",
    "#         with connection.cursor() as cursor:\n",
    "#             insert_query = \"INSERT INTO users (name, password, email) VALUES\"\\\n",
    "#                             \"('Anna', 'qwerty','anna@gmail.com');\"\n",
    "#             cursor.execute(insert_query)\n",
    "#             connection.commit()\n",
    "            \n",
    "#         with connection.cursor() as cursor:\n",
    "#             insert_query = \"INSERT INTO users (name, password, email) VALUES\"\\\n",
    "#                             \"('Gomer', 'simpsons','gomer@yandex.ru');\"\n",
    "#             cursor.execute(insert_query)\n",
    "#             connection.commit()\n",
    "            \n",
    "#         with connection.cursor() as cursor:\n",
    "#             insert_query = \"INSERT INTO users (name, password, email) VALUES\"\\\n",
    "#                             \"('Antuan', 'samerbym04021985','bigiq@gmail.com');\"\n",
    "#             cursor.execute(insert_query)\n",
    "#             connection.commit()\n",
    "\n",
    "#           #update data\n",
    "#           with connection.cursor() as cursor: \n",
    "#             update_query = \"UPDATE users SET password = 'ilovebeer' WHERE name = 'Gomer';\"\n",
    "#             cursor.execute(update_query)\n",
    "#             connection.commit()\n",
    "            \n",
    "#           #delete data\n",
    "#           with connection.cursor() as cursor: \n",
    "#             delete_query = \"DELETE FROM users WHERE id = 3;\"\n",
    "#             cursor.execute(delete_query)\n",
    "#             connection.commit()\n",
    "\n",
    "\n",
    "#           #drop table\n",
    "#           with connection.cursor() as cursor:   \n",
    "#             drop_table_query = \"DROP TABLE users;\"\n",
    "#             cursor.execute(drop_table_query)\n",
    "#             connection.commit()\n",
    "            \n",
    "          #select all data from table\n",
    "        with connection.cursor() as cursor:\n",
    "            select_all_rows = \"SELECT * FROM users\"\n",
    "            cursor.execute(select_all_rows)\n",
    "            rows = cursor.fetchall()\n",
    "            for row in rows:\n",
    "                print(row)\n",
    "            print(\"#\" * 87)\n",
    "            \n",
    "    finally:\n",
    "        connection.close()\n",
    "    \n",
    "except Exception as ex:\n",
    "    print(\"Ошибка подключения\")\n",
    "    print(ex)"
   ]
  },
  {
   "cell_type": "code",
   "execution_count": null,
   "id": "226336fc",
   "metadata": {},
   "outputs": [],
   "source": []
  }
 ],
 "metadata": {
  "kernelspec": {
   "display_name": "Python 3 (ipykernel)",
   "language": "python",
   "name": "python3"
  },
  "language_info": {
   "codemirror_mode": {
    "name": "ipython",
    "version": 3
   },
   "file_extension": ".py",
   "mimetype": "text/x-python",
   "name": "python",
   "nbconvert_exporter": "python",
   "pygments_lexer": "ipython3",
   "version": "3.9.7"
  }
 },
 "nbformat": 4,
 "nbformat_minor": 5
}
